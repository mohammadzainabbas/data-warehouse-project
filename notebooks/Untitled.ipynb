{
 "cells": [
  {
   "cell_type": "code",
   "execution_count": 1,
   "id": "77446973-ac2b-4bf6-b8ff-b6f9271daccb",
   "metadata": {},
   "outputs": [],
   "source": [
    "import re"
   ]
  },
  {
   "cell_type": "code",
   "execution_count": 2,
   "id": "10f17cd3-b02c-429c-a0ef-9a85bb645897",
   "metadata": {},
   "outputs": [],
   "source": [
    "query = \"\"\"\n",
    "-- start query 6 in stream 0 using template query80.tpl\n",
    "with ssr as\n",
    "(select  s_store_id as store_id,\n",
    "sum(ss_ext_sales_price) as sales,\n",
    "sum(coalesce(sr_return_amt, 0)) as returns,\n",
    "sum(ss_net_profit - coalesce(sr_net_loss, 0)) as profit\n",
    "from store_sales left outer join store_returns on\n",
    "(ss_item_sk = sr_item_sk and ss_ticket_number = sr_ticket_number),\n",
    "date_dim,\n",
    "store,\n",
    "item,\n",
    "promotion\n",
    "where ss_sold_date_sk = d_date_sk\n",
    "and d_date between cast('2002-08-04' as date)\n",
    "and (cast('2002-08-04' as date) +  30 days)\n",
    "and ss_store_sk = s_store_sk\n",
    "and ss_item_sk = i_item_sk\n",
    "and i_current_price > 50\n",
    "and ss_promo_sk = p_promo_sk\n",
    "and p_channel_tv = 'N'\n",
    "group by s_store_id)\n",
    ",\n",
    "csr as\n",
    "(select  cp_catalog_page_id as catalog_page_id,\n",
    "sum(cs_ext_sales_price) as sales,\n",
    "sum(coalesce(cr_return_amount, 0)) as returns,\n",
    "sum(cs_net_profit - coalesce(cr_net_loss, 0)) as profit\n",
    "from catalog_sales left outer join catalog_returns on\n",
    "(cs_item_sk = cr_item_sk and cs_order_number = cr_order_number),\n",
    "date_dim,\n",
    "catalog_page,\n",
    "item,\n",
    "promotion\n",
    "where cs_sold_date_sk = d_date_sk\n",
    "and d_date between cast('2002-08-04' as date)\n",
    "and (cast('2002-08-04' as date) +  30 days)\n",
    "and cs_catalog_page_sk = cp_catalog_page_sk\n",
    "and cs_item_sk = i_item_sk\n",
    "and i_current_price > 50\n",
    "and cs_promo_sk = p_promo_sk\n",
    "and p_channel_tv = 'N'\n",
    "group by cp_catalog_page_id)\n",
    ",\n",
    "wsr as\n",
    "(select  web_site_id,\n",
    "sum(ws_ext_sales_price) as sales,\n",
    "sum(coalesce(wr_return_amt, 0)) as returns,\n",
    "sum(ws_net_profit - coalesce(wr_net_loss, 0)) as profit\n",
    "from web_sales left outer join web_returns on\n",
    "(ws_item_sk = wr_item_sk and ws_order_number = wr_order_number),\n",
    "date_dim,\n",
    "web_site,\n",
    "item,\n",
    "promotion\n",
    "where ws_sold_date_sk = d_date_sk\n",
    "and d_date between cast('2002-08-04' as date)\n",
    "and (cast('2002-08-04' as date) +  30 days)\n",
    "and ws_web_site_sk = web_site_sk\n",
    "and ws_item_sk = i_item_sk\n",
    "and i_current_price > 50\n",
    "and ws_promo_sk = p_promo_sk\n",
    "and p_channel_tv = 'N'\n",
    "group by web_site_id)\n",
    "select  channel\n",
    ", id\n",
    ", sum(sales) as sales\n",
    ", sum(returns) as returns\n",
    ", sum(profit) as profit\n",
    "from\n",
    "(select 'store channel' as channel\n",
    ", 'store' || store_id as id\n",
    ", sales\n",
    ", returns\n",
    ", profit\n",
    "from   ssr\n",
    "union all\n",
    "select 'catalog channel' as channel\n",
    ", 'catalog_page' || catalog_page_id as id\n",
    ", sales\n",
    ", returns\n",
    ", profit\n",
    "from  csr\n",
    "union all\n",
    "select 'web channel' as channel\n",
    ", 'web_site' || web_site_id as id\n",
    ", sales\n",
    ", returns\n",
    ", profit\n",
    "from   wsr\n",
    ") x\n",
    "group by rollup (channel, id)\n",
    "order by channel\n",
    ",id\n",
    "limit 100;\n",
    "\n",
    "-- end query 6 in stream 0 using template query80.tpl\n",
    "\"\"\""
   ]
  },
  {
   "cell_type": "code",
   "execution_count": 6,
   "id": "c446e510-0a1c-4fd5-a679-0d7f996865a9",
   "metadata": {},
   "outputs": [],
   "source": [
    "lines = query.split(\"\\n\")"
   ]
  },
  {
   "cell_type": "code",
   "execution_count": 7,
   "id": "bcd2dfd6-8a3d-4e61-b0d1-f7952ee62e42",
   "metadata": {},
   "outputs": [
    {
     "data": {
      "text/plain": [
       "98"
      ]
     },
     "execution_count": 7,
     "metadata": {},
     "output_type": "execute_result"
    }
   ],
   "source": [
    "len(lines)"
   ]
  },
  {
   "cell_type": "code",
   "execution_count": 36,
   "id": "19565847-b132-4461-9870-7f32000f0e7a",
   "metadata": {},
   "outputs": [
    {
     "name": "stdout",
     "output_type": "stream",
     "text": [
      "foo%s bar%s\n"
     ]
    }
   ],
   "source": [
    "regex = re.compile('([a-zA-Z]\\\"[a-zA-Z])', re.S)\n",
    "myfile =  'foo\"s bar\"s'\n",
    "myfile2 = regex.sub(lambda m: m.group().replace('\"',\"%\",1), myfile)\n",
    "print(myfile2)"
   ]
  },
  {
   "cell_type": "code",
   "execution_count": 21,
   "id": "468bc3ff-2959-4d52-a87f-4d9e36d97b9e",
   "metadata": {},
   "outputs": [],
   "source": [
    "reg = re.compile(r\"\\d+ days\")"
   ]
  },
  {
   "cell_type": "code",
   "execution_count": 75,
   "id": "922cba36-f140-486f-ac7b-ddc7546dd73d",
   "metadata": {},
   "outputs": [],
   "source": [
    "txt = \"and (cast('2002-08-04' as date) -  30 days) and (cast('2002-08-04' as date) + 30 days)\""
   ]
  },
  {
   "cell_type": "code",
   "execution_count": 89,
   "id": "d618697c-cd3e-4925-804a-6d27a6a511ca",
   "metadata": {},
   "outputs": [
    {
     "data": {
      "text/plain": [
       "\"and (cast('2002-08-04' as date) -  INTERVAL 30 day) and (cast('2002-08-04' as date) + INTERVAL 30 day)\""
      ]
     },
     "execution_count": 89,
     "metadata": {},
     "output_type": "execute_result"
    }
   ],
   "source": [
    "txt = \"and (cast('2002-08-04' as date) -  30 days) and (cast('2002-08-04' as date) + 30 days)\"\n",
    "r = re.compile(r\"(\\+|\\-)\\s*(?P<num>\\d+)\\s*(?P<day>days\\))\", re.S)\n",
    "txt = r.sub(lambda m: m.group().replace(m.group(\"num\"), \"INTERVAL {}\".format(m.group(\"num\")), 1).replace(m.group(\"day\"), \"day)\", 1), txt)\n",
    "txt"
   ]
  },
  {
   "cell_type": "code",
   "execution_count": 88,
   "id": "a3092bac-eed6-4cf6-84ab-7f9357c9a431",
   "metadata": {},
   "outputs": [
    {
     "data": {
      "text/plain": [
       "'count(distinct ws_order_number) as order_count'"
      ]
     },
     "execution_count": 88,
     "metadata": {},
     "output_type": "execute_result"
    }
   ],
   "source": [
    "txt = 'count(distinct ws_order_number) as \"order count\"'\n",
    "r = re.compile(r\"(as)\\s*(?P<p1>\\\")\\s*(?P<text>[^]]+)\\s*(?P<p2>\\\")\", re.S)\n",
    "txt = r.sub(lambda m: m.group().replace(m.group(\"text\"), \"{}\".format(\"_\".join(m.group(\"text\").split(\" \"))), 1).replace(m.group(\"p1\"), \"\", 1).replace(m.group(\"p2\"), \"\", 1), txt)\n",
    "txt"
   ]
  },
  {
   "cell_type": "code",
   "execution_count": 72,
   "id": "7d3845f3-f983-45aa-80e7-b4fb31069b19",
   "metadata": {},
   "outputs": [
    {
     "ename": "SyntaxError",
     "evalue": "invalid syntax (293274236.py, line 4)",
     "output_type": "error",
     "traceback": [
      "\u001b[0;36m  File \u001b[0;32m\"/var/folders/mm/5vsgc5194kqf1xnmgq439jww0000gn/T/ipykernel_19130/293274236.py\"\u001b[0;36m, line \u001b[0;32m4\u001b[0m\n\u001b[0;31m    re.\u001b[0m\n\u001b[0m       ^\u001b[0m\n\u001b[0;31mSyntaxError\u001b[0m\u001b[0;31m:\u001b[0m invalid syntax\n"
     ]
    }
   ],
   "source": [
    "# t = \"{t} {t}\".format(t=txt)\n",
    "t = txt\n",
    "re.findall(r\"(\\+|\\-)\\s*(?P<num>\\d+ days\\))\", t)\n",
    "re."
   ]
  },
  {
   "cell_type": "code",
   "execution_count": 8,
   "id": "236c8cec-225a-4b21-8c42-554fbefbf5ae",
   "metadata": {},
   "outputs": [],
   "source": [
    "def modify_line(line):\n",
    "\n",
    "    # +/- <Digit> days) -> INTERVAL <Digit> day)\n",
    "    interval_regex = re.compile(r\"(\\+|\\-)\\s*(?P<num>\\d+)\\s*(?P<day>days\\))\", re.S)\n",
    "    line = interval_regex.sub(lambda m: m.group().replace(m.group(\"num\"), \"INTERVAL {}\".format(m.group(\"num\")), 1).replace(m.group(\"day\"), \"day)\", 1), line)\n",
    "    \n",
    "    # as \"<some text>\" -> as some_text\n",
    "    as_regex = re.compile(r\"(as)\\s*(?P<p1>\\\")\\s*(?P<text>[^]]+)\\s*(?P<p2>\\\")\", re.S)\n",
    "    line = as_regex.sub(lambda m: m.group().replace(m.group(\"text\"), \"{}\".format(\"_\".join(m.group(\"text\").split(\" \"))), 1).replace(m.group(\"p1\"), \"\", 1).replace(m.group(\"p2\"), \"\", 1), line)\n",
    "    \n",
    "    return line"
   ]
  },
  {
   "cell_type": "code",
   "execution_count": 9,
   "id": "612f36aa-d333-4cce-8d47-8880f5950cae",
   "metadata": {},
   "outputs": [
    {
     "name": "stdout",
     "output_type": "stream",
     "text": [
      "\n",
      "\n",
      "-- start query 6 in stream 0 using template query80.tpl\n",
      "with ssr as\n",
      "(select  s_store_id as store_id,\n",
      "sum(ss_ext_sales_price) as sales,\n",
      "sum(coalesce(sr_return_amt, 0)) as returns,\n",
      "sum(ss_net_profit - coalesce(sr_net_loss, 0)) as profit\n",
      "from store_sales left outer join store_returns on\n",
      "(ss_item_sk = sr_item_sk and ss_ticket_number = sr_ticket_number),\n",
      "date_dim,\n",
      "store,\n",
      "item,\n",
      "promotion\n",
      "where ss_sold_date_sk = d_date_sk\n",
      "and d_date between cast('2002-08-04' as date)\n",
      "and (cast('2002-08-04' as date) +  30 days)\n",
      "and ss_store_sk = s_store_sk\n",
      "and ss_item_sk = i_item_sk\n",
      "and i_current_price > 50\n",
      "and ss_promo_sk = p_promo_sk\n",
      "and p_channel_tv = 'N'\n",
      "group by s_store_id)\n",
      ",\n",
      "csr as\n",
      "(select  cp_catalog_page_id as catalog_page_id,\n",
      "sum(cs_ext_sales_price) as sales,\n",
      "sum(coalesce(cr_return_amount, 0)) as returns,\n",
      "sum(cs_net_profit - coalesce(cr_net_loss, 0)) as profit\n",
      "from catalog_sales left outer join catalog_returns on\n",
      "(cs_item_sk = cr_item_sk and cs_order_number = cr_order_number),\n",
      "date_dim,\n",
      "catalog_page,\n",
      "item,\n",
      "promotion\n",
      "where cs_sold_date_sk = d_date_sk\n",
      "and d_date between cast('2002-08-04' as date)\n",
      "and (cast('2002-08-04' as date) +  30 days)\n",
      "and cs_catalog_page_sk = cp_catalog_page_sk\n",
      "and cs_item_sk = i_item_sk\n",
      "and i_current_price > 50\n",
      "and cs_promo_sk = p_promo_sk\n",
      "and p_channel_tv = 'N'\n",
      "group by cp_catalog_page_id)\n",
      ",\n",
      "wsr as\n",
      "(select  web_site_id,\n",
      "sum(ws_ext_sales_price) as sales,\n",
      "sum(coalesce(wr_return_amt, 0)) as returns,\n",
      "sum(ws_net_profit - coalesce(wr_net_loss, 0)) as profit\n",
      "from web_sales left outer join web_returns on\n",
      "(ws_item_sk = wr_item_sk and ws_order_number = wr_order_number),\n",
      "date_dim,\n",
      "web_site,\n",
      "item,\n",
      "promotion\n",
      "where ws_sold_date_sk = d_date_sk\n",
      "and d_date between cast('2002-08-04' as date)\n",
      "and (cast('2002-08-04' as date) +  30 days)\n",
      "and ws_web_site_sk = web_site_sk\n",
      "and ws_item_sk = i_item_sk\n",
      "and i_current_price > 50\n",
      "and ws_promo_sk = p_promo_sk\n",
      "and p_channel_tv = 'N'\n",
      "group by web_site_id)\n",
      "select  channel\n",
      ", id\n",
      ", sum(sales) as sales\n",
      ", sum(returns) as returns\n",
      ", sum(profit) as profit\n",
      "from\n",
      "(select 'store channel' as channel\n",
      ", 'store' || store_id as id\n",
      ", sales\n",
      ", returns\n",
      ", profit\n",
      "from   ssr\n",
      "union all\n",
      "select 'catalog channel' as channel\n",
      ", 'catalog_page' || catalog_page_id as id\n",
      ", sales\n",
      ", returns\n",
      ", profit\n",
      "from  csr\n",
      "union all\n",
      "select 'web channel' as channel\n",
      ", 'web_site' || web_site_id as id\n",
      ", sales\n",
      ", returns\n",
      ", profit\n",
      "from   wsr\n",
      ") x\n",
      "group by rollup (channel, id)\n",
      "order by channel\n",
      ",id\n",
      "limit 100;\n",
      "\n",
      "-- end query 6 in stream 0 using template query80.tpl\n",
      "\n"
     ]
    }
   ],
   "source": [
    "new_query = ''\n",
    "for line in lines:\n",
    "    new_query += \"\\n{}\".format(modify_line(line))\n",
    "print(new_query)"
   ]
  },
  {
   "cell_type": "code",
   "execution_count": null,
   "id": "09a14653-7899-4949-8b3d-a6844d070fb9",
   "metadata": {},
   "outputs": [],
   "source": []
  }
 ],
 "metadata": {
  "kernelspec": {
   "display_name": "PySpark env",
   "language": "python",
   "name": "pyspark_env"
  },
  "language_info": {
   "codemirror_mode": {
    "name": "ipython",
    "version": 3
   },
   "file_extension": ".py",
   "mimetype": "text/x-python",
   "name": "python",
   "nbconvert_exporter": "python",
   "pygments_lexer": "ipython3",
   "version": "3.9.7"
  }
 },
 "nbformat": 4,
 "nbformat_minor": 5
}
