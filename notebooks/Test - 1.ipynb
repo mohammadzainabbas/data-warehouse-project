{
 "cells": [
  {
   "cell_type": "code",
   "execution_count": 1,
   "id": "0cfe145d",
   "metadata": {},
   "outputs": [
    {
     "data": {
      "text/html": [
       "\n",
       "        <div>\n",
       "            <p><b>SparkContext</b></p>\n",
       "\n",
       "            <p><a href=\"http://192.168.0.253:4040\">Spark UI</a></p>\n",
       "\n",
       "            <dl>\n",
       "              <dt>Version</dt>\n",
       "                <dd><code>v3.1.2</code></dd>\n",
       "              <dt>Master</dt>\n",
       "                <dd><code>local[*]</code></dd>\n",
       "              <dt>AppName</dt>\n",
       "                <dd><code>PySparkShell</code></dd>\n",
       "            </dl>\n",
       "        </div>\n",
       "        "
      ],
      "text/plain": [
       "<SparkContext master=local[*] appName=PySparkShell>"
      ]
     },
     "execution_count": 1,
     "metadata": {},
     "output_type": "execute_result"
    }
   ],
   "source": [
    "sc"
   ]
  },
  {
   "cell_type": "code",
   "execution_count": 2,
   "id": "1dcda351",
   "metadata": {},
   "outputs": [],
   "source": [
    "from os import getcwd\n",
    "from os.path import join\n",
    "from time import time\n",
    "from pyspark.sql import SparkSession\n",
    "from pyspark.sql.types import *"
   ]
  },
  {
   "cell_type": "code",
   "execution_count": 3,
   "id": "46711a3f-97f3-4ca0-b36c-192de20790fe",
   "metadata": {},
   "outputs": [],
   "source": [
    "conn_str = \"jdbc:mysql://localhost/test_tpcds\""
   ]
  },
  {
   "cell_type": "code",
   "execution_count": 4,
   "id": "5cd37edc",
   "metadata": {},
   "outputs": [],
   "source": [
    "spark = SparkSession.builder.master(\"local[1]\").appName(\"JAS\").enableHiveSupport().getOrCreate()"
   ]
  },
  {
   "cell_type": "code",
   "execution_count": 5,
   "id": "8baf1ce7-fd76-41cd-b3b8-1265d245cc94",
   "metadata": {},
   "outputs": [],
   "source": [
    "tables = [\"call_center\", \"catalog_page\", \"catalog_returns\", \"catalog_sales\", \"customer\", \"customer_address\", \"customer_demographics\", \"date_dim\", \"dbgen_version\", \"household_demographics\", \"income_band\", \"inventory\", \"item\", \"promotion\", \"reason\", \"ship_mode\", \"store\", \"store_returns\", \"store_sales\", \"time_dim\", \"warehouse\", \"web_page\", \"web_returns\", \"web_sales\", \"web_site\"]"
   ]
  },
  {
   "cell_type": "code",
   "execution_count": 6,
   "id": "2960f417-a25a-4b54-b3ae-13e426b18984",
   "metadata": {},
   "outputs": [
    {
     "data": {
      "text/plain": [
       "25"
      ]
     },
     "execution_count": 6,
     "metadata": {},
     "output_type": "execute_result"
    }
   ],
   "source": [
    "len(tables)"
   ]
  },
  {
   "cell_type": "markdown",
   "id": "c9c95054-0e0e-4d2b-840f-e7f182fb7e9c",
   "metadata": {},
   "source": [
    "spark \n",
    "\n",
    "1. StructType\n",
    "2. `age INT`\n",
    "\n",
    "\n",
    "\n",
    "\n",
    "jdbc connection\n",
    "\n",
    "load schema -> sql dbms (mysql) -> spark sql"
   ]
  },
  {
   "cell_type": "code",
   "execution_count": 7,
   "id": "a6515df1-2c32-4f18-b681-bd98ee6a20f4",
   "metadata": {},
   "outputs": [
    {
     "name": "stdout",
     "output_type": "stream",
     "text": [
      "For table: call_center\n",
      "\n"
     ]
    },
    {
     "name": "stderr",
     "output_type": "stream",
     "text": [
      "Loading class `com.mysql.jdbc.Driver'. This is deprecated. The new driver class is `com.mysql.cj.jdbc.Driver'. The driver is automatically registered via the SPI and manual loading of the driver class is generally unnecessary.\n"
     ]
    },
    {
     "name": "stdout",
     "output_type": "stream",
     "text": [
      "For table: catalog_page\n",
      "\n",
      "For table: catalog_returns\n",
      "\n",
      "For table: catalog_sales\n",
      "\n",
      "For table: customer\n",
      "\n",
      "For table: customer_address\n",
      "\n",
      "For table: customer_demographics\n",
      "\n",
      "For table: date_dim\n",
      "\n",
      "For table: dbgen_version\n",
      "\n",
      "For table: household_demographics\n",
      "\n",
      "For table: income_band\n",
      "\n",
      "For table: inventory\n",
      "\n",
      "For table: item\n",
      "\n",
      "For table: promotion\n",
      "\n",
      "For table: reason\n",
      "\n",
      "For table: ship_mode\n",
      "\n",
      "For table: store\n",
      "\n",
      "For table: store_returns\n",
      "\n",
      "For table: store_sales\n",
      "\n",
      "For table: time_dim\n",
      "\n",
      "For table: warehouse\n",
      "\n",
      "For table: web_page\n",
      "\n",
      "For table: web_returns\n",
      "\n",
      "For table: web_sales\n",
      "\n",
      "For table: web_site\n",
      "\n"
     ]
    }
   ],
   "source": [
    "schema_dict = {}\n",
    "\n",
    "for index, table in enumerate(tables):\n",
    "    print(\"For table: {}\\n\".format( table ))\n",
    "    table_df = spark.read.format(\"jdbc\").option(\"driver\", \"com.mysql.jdbc.Driver\").option(\"url\", conn_str).option(\"dbtable\", table).option(\"user\", \"root\").load()\n",
    "    schema_dict[table] = table_df.schema\n",
    "    \n",
    "#     if index == 1:\n",
    "#         break\n",
    "    \n",
    "\n",
    "# customSchema = StructType(\n",
    "#     [\n",
    "#         StructField(\"r_reason_sk\", IntegerType(), True),\n",
    "#         StructField(\"r_reason_id\", StringType(), True),\n",
    "#         StructField(\"r_reason_desc\", StringType(), True),\n",
    "#     ]\n",
    "# )\n",
    "\n",
    "# productDF = spark.read.load( join(getcwd(), \"data\", \"call_center.csv\"),\n",
    "#     format=\"csv\",\n",
    "#     header=\"true\",\n",
    "#     schema=customSchema,\n",
    "# )"
   ]
  },
  {
   "cell_type": "code",
   "execution_count": null,
   "id": "81642b0c-f357-4265-b82d-ada95f39f78c",
   "metadata": {},
   "outputs": [],
   "source": [
    "for key, value in schema_dict.items():\n",
    "    print(\"{}: {}\\n\".format(key, value))"
   ]
  },
  {
   "cell_type": "code",
   "execution_count": 8,
   "id": "2d1a3d58-2b1b-4f4d-82d6-f561cfe8031b",
   "metadata": {},
   "outputs": [
    {
     "name": "stdout",
     "output_type": "stream",
     "text": [
      "For Table: call_center\n",
      "For Table: catalog_page\n",
      "For Table: catalog_returns\n",
      "For Table: catalog_sales\n",
      "For Table: customer\n",
      "For Table: customer_address\n",
      "For Table: customer_demographics\n",
      "For Table: date_dim\n",
      "For Table: dbgen_version\n",
      "For Table: household_demographics\n",
      "For Table: income_band\n",
      "For Table: inventory\n",
      "For Table: item\n",
      "For Table: promotion\n",
      "For Table: reason\n",
      "For Table: ship_mode\n",
      "For Table: store\n",
      "For Table: store_returns\n",
      "For Table: store_sales\n",
      "For Table: time_dim\n",
      "For Table: warehouse\n",
      "For Table: web_page\n",
      "For Table: web_returns\n",
      "For Table: web_sales\n",
      "For Table: web_site\n"
     ]
    }
   ],
   "source": [
    "df_dict = {}\n",
    "\n",
    "for key, value in schema_dict.items():\n",
    "    df = spark.read.load( join(getcwd(), \"data_correct\", \"{}.csv\".format( key )),\n",
    "        format=\"csv\",\n",
    "        delimiter=\"|\",\n",
    "        header=\"true\",\n",
    "        schema=value)\n",
    "    df_dict[key] = df\n",
    "    print(\"For Table: {}\".format(key))\n",
    "    # df.show()"
   ]
  },
  {
   "cell_type": "code",
   "execution_count": 9,
   "id": "0f57245b-58a5-49f7-b0d2-b37e21e10efd",
   "metadata": {},
   "outputs": [
    {
     "data": {
      "text/plain": [
       "'/Users/mohammadzainabbas/Masters/ULB/Data Warehouse/tpcds-kit'"
      ]
     },
     "execution_count": 9,
     "metadata": {},
     "output_type": "execute_result"
    }
   ],
   "source": [
    "getcwd()"
   ]
  },
  {
   "cell_type": "code",
   "execution_count": 15,
   "id": "13e71ba2-8b47-436e-a404-18c53b343be5",
   "metadata": {},
   "outputs": [],
   "source": [
    "df_dict['call_center'].createOrReplaceTempView(\"call_center\")"
   ]
  },
  {
   "cell_type": "code",
   "execution_count": 17,
   "id": "4d3257b7-0fff-4508-86b2-c45ce8460904",
   "metadata": {},
   "outputs": [
    {
     "name": "stdout",
     "output_type": "stream",
     "text": [
      "+-----------------+-----------------+-----------------+---------------+-----------------+---------------+-------------+--------+------------+--------+--------+--------------+---------+--------------------+--------------------+-----------------+-----------+----------------+----------+---------------+----------------+--------------+--------------+---------------+-------+-----------------+--------+------+-------------+-------------+-----------------+\n",
      "|cc_call_center_sk|cc_call_center_id|cc_rec_start_date|cc_rec_end_date|cc_closed_date_sk|cc_open_date_sk|      cc_name|cc_class|cc_employees|cc_sq_ft|cc_hours|    cc_manager|cc_mkt_id|        cc_mkt_class|         cc_mkt_desc|cc_market_manager|cc_division|cc_division_name|cc_company|cc_company_name|cc_street_number|cc_street_name|cc_street_type|cc_suite_number|cc_city|        cc_county|cc_state|cc_zip|   cc_country|cc_gmt_offset|cc_tax_percentage|\n",
      "+-----------------+-----------------+-----------------+---------------+-----------------+---------------+-------------+--------+------------+--------+--------+--------------+---------+--------------------+--------------------+-----------------+-----------+----------------+----------+---------------+----------------+--------------+--------------+---------------+-------+-----------------+--------+------+-------------+-------------+-----------------+\n",
      "|                2| AAAAAAAACAAAAAAA|       1998-01-01|     2000-12-31|             null|        2450806| Mid Atlantic|  medium|           6|    2268| 8AM-8AM|Felipe Perkins|        2|A bit narrow form...|Largely blank yea...|    Julius Durham|          5|            anti|         1|          ought|             984|   Center Hill|           Way|       Suite 70| Midway|Williamson County|      TN| 31904|United States|        -5.00|             0.12|\n",
      "|                3| AAAAAAAACAAAAAAA|       2001-01-01|           null|             null|        2450806| Mid Atlantic|  medium|           6|    4134| 8AM-4PM|Mark Hightower|        2|Wrong troops shal...|Largely blank yea...|    Julius Durham|          1|           ought|         2|           able|             984|   Center Hill|           Way|       Suite 70| Midway|Williamson County|      TN| 31904|United States|        -5.00|             0.01|\n",
      "|                4| AAAAAAAAEAAAAAAA|       1998-01-01|     2000-01-01|             null|        2451063|North Midwest|  medium|           1|     649| 8AM-4PM|  Larry Mccray|        2|Dealers make most...|Rich groups catch...|  Matthew Clifton|          4|             ese|         3|            pri|             463|    Pine Ridge|            RD|        Suite U| Midway|Williamson County|      TN| 31904|United States|        -5.00|             0.05|\n",
      "|                5| AAAAAAAAEAAAAAAA|       2000-01-02|     2001-12-31|             null|        2451063|North Midwest|   small|           3|     795| 8AM-8AM|  Larry Mccray|        2|Dealers make most...|Blue, due beds co...|     Gary Colburn|          4|             ese|         3|            pri|             463|    Pine Ridge|            RD|        Suite U| Midway|Williamson County|      TN| 31904|United States|        -5.00|             0.12|\n",
      "|                6| AAAAAAAAEAAAAAAA|       2002-01-01|           null|             null|        2451063|North Midwest|  medium|           7|    3514| 8AM-4PM|  Larry Mccray|        5|Silly particles c...|Blue, due beds co...|     Gary Colburn|          5|            anti|         3|            pri|             463|    Pine Ridge|            RD|        Suite U| Midway|Williamson County|      TN| 31904|United States|        -5.00|             0.11|\n",
      "+-----------------+-----------------+-----------------+---------------+-----------------+---------------+-------------+--------+------------+--------+--------+--------------+---------+--------------------+--------------------+-----------------+-----------+----------------+----------+---------------+----------------+--------------+--------------+---------------+-------+-----------------+--------+------+-------------+-------------+-----------------+\n",
      "\n"
     ]
    },
    {
     "name": "stderr",
     "output_type": "stream",
     "text": [
      "21/10/14 21:03:44 WARN CSVHeaderChecker: Number of column in CSV header is not equal to number of fields in the schema:\n",
      " Header length: 32, schema size: 31\n",
      "CSV file: file:///Users/mohammadzainabbas/Masters/ULB/Data%20Warehouse/tpcds-kit/data_correct/call_center.csv\n"
     ]
    }
   ],
   "source": [
    "spark.sql(\"select * from call_center\").show()"
   ]
  },
  {
   "cell_type": "code",
   "execution_count": 5,
   "id": "b087f1eb",
   "metadata": {
    "scrolled": true
   },
   "outputs": [
    {
     "name": "stdout",
     "output_type": "stream",
     "text": [
      "+-----------+----------------+-------------+\n",
      "|r_reason_sk|     r_reason_id|r_reason_desc|\n",
      "+-----------+----------------+-------------+\n",
      "|          2|AAAAAAAACAAAAAAA|   1998-01-01|\n",
      "|          3|AAAAAAAACAAAAAAA|   2001-01-01|\n",
      "|          4|AAAAAAAAEAAAAAAA|   1998-01-01|\n",
      "|          5|AAAAAAAAEAAAAAAA|   2000-01-02|\n",
      "|          6|AAAAAAAAEAAAAAAA|   2002-01-01|\n",
      "+-----------+----------------+-------------+\n",
      "\n"
     ]
    },
    {
     "name": "stderr",
     "output_type": "stream",
     "text": [
      "21/10/09 12:57:38 WARN CSVHeaderChecker: Number of column in CSV header is not equal to number of fields in the schema:\n",
      " Header length: 32, schema size: 3\n",
      "CSV file: file:///Users/mohammadzainabbas/Masters/ULB/Data%20Warehouse/tpcds-kit/data/call_center.csv\n"
     ]
    }
   ],
   "source": [
    "productDF.show()"
   ]
  },
  {
   "cell_type": "code",
   "execution_count": 11,
   "id": "8f3f240f",
   "metadata": {},
   "outputs": [],
   "source": [
    "from pyspark.sql import SQLContext"
   ]
  },
  {
   "cell_type": "code",
   "execution_count": null,
   "id": "146251e5",
   "metadata": {},
   "outputs": [],
   "source": [
    "sqlContext = SQLContext(sc)"
   ]
  },
  {
   "cell_type": "code",
   "execution_count": null,
   "id": "c8352f2d",
   "metadata": {},
   "outputs": [],
   "source": [
    "# import pyspark\n",
    "# from pyspark import SparkConf, SparkContext\n",
    "# from pyspark.sql import HiveContext, SparkSession\n",
    "# from pyspark.sql.types import *\n",
    "\n",
    "# spark = SparkSession.builder.master(\"local[1]\").appName(\"JAS\").getOrCreate()\n",
    "# customSchema = StructType(\n",
    "#     [\n",
    "#         StructField(\"r_reason_sk\", IntegerType(), True),\n",
    "#         StructField(\"r_reason_id\", StringType(), True),\n",
    "#         StructField(\"r_reason_desc\", StringType(), True),\n",
    "#     ]\n",
    "# )\n",
    "\n",
    "# productDF = spark.read.load(\n",
    "#     \"/Users/xiaokeai/tpcds-kit/data/call_center.csv\",\n",
    "#     format=\"csv\",\n",
    "#     header=\"true\",\n",
    "#     schema=customSchema,\n",
    "# )\n",
    "\n",
    "# productDF.printSchema()"
   ]
  }
 ],
 "metadata": {
  "kernelspec": {
   "display_name": "PySpark env",
   "language": "python",
   "name": "pyspark_env"
  },
  "language_info": {
   "codemirror_mode": {
    "name": "ipython",
    "version": 3
   },
   "file_extension": ".py",
   "mimetype": "text/x-python",
   "name": "python",
   "nbconvert_exporter": "python",
   "pygments_lexer": "ipython3",
   "version": "3.9.7"
  }
 },
 "nbformat": 4,
 "nbformat_minor": 5
}
