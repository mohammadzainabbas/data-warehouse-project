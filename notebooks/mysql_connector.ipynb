{
 "cells": [
  {
   "cell_type": "code",
   "execution_count": 1,
   "source": [
    "from pyspark.sql import SQLContext, SparkSession"
   ],
   "outputs": [],
   "metadata": {}
  },
  {
   "cell_type": "code",
   "execution_count": null,
   "source": [
    "if __name__ == '__main__':\n",
    "    # spark 初始化\n",
    "    spark = SparkSession. \\\n",
    "        Builder(). \\\n",
    "        appName('sql'). \\\n",
    "        master('local'). \\\n",
    "        getOrCreate()\n",
    "    # mysql 配置(需要修改)\n",
    "    prop = {'user': 'root', \n",
    "            'password': '12345678', \n",
    "            'driver': 'com.mysql.cj.jdbc.Driver'}\n",
    "    # database 地址(需要修改)\n",
    "    url = 'jdbc:mysql://localhost:3306/database'\n",
    "    # 读取表\n",
    "    data = spark.read.jdbc(url=url, table='tb_newCity', properties=prop)\n",
    "    # 打印data数据类型\n",
    "    print(type(data))\n",
    "    # 展示数据\n",
    "    data.show()\n",
    "    # 关闭spark会话\n",
    "    spark.stop()\n"
   ],
   "outputs": [],
   "metadata": {}
  }
 ],
 "metadata": {
  "orig_nbformat": 4,
  "language_info": {
   "name": "python",
   "version": "3.8.9",
   "mimetype": "text/x-python",
   "codemirror_mode": {
    "name": "ipython",
    "version": 3
   },
   "pygments_lexer": "ipython3",
   "nbconvert_exporter": "python",
   "file_extension": ".py"
  },
  "kernelspec": {
   "name": "python3",
   "display_name": "Python 3.8.9 64-bit"
  },
  "interpreter": {
   "hash": "31f2aee4e71d21fbe5cf8b01ff0e069b9275f58929596ceb00d14d90e3e16cd6"
  }
 },
 "nbformat": 4,
 "nbformat_minor": 2
}